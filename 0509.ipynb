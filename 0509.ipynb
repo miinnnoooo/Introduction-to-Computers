{
  "nbformat": 4,
  "nbformat_minor": 0,
  "metadata": {
    "colab": {
      "name": "0509.ipynb",
      "provenance": [],
      "authorship_tag": "ABX9TyNcslSsuqnE44N7fiRUgmG0",
      "include_colab_link": true
    },
    "kernelspec": {
      "name": "python3",
      "display_name": "Python 3"
    },
    "language_info": {
      "name": "python"
    }
  },
  "cells": [
    {
      "cell_type": "markdown",
      "metadata": {
        "id": "view-in-github",
        "colab_type": "text"
      },
      "source": [
        "<a href=\"https://colab.research.google.com/github/miinnnoooo/Introduction-to-Computers/blob/main/0509.ipynb\" target=\"_parent\"><img src=\"https://colab.research.google.com/assets/colab-badge.svg\" alt=\"Open In Colab\"/></a>"
      ]
    },
    {
      "cell_type": "code",
      "execution_count": 2,
      "metadata": {
        "colab": {
          "base_uri": "https://localhost:8080/"
        },
        "id": "aa04s0rO94N6",
        "outputId": "90aba3b1-0bd8-43e0-9bf6-1f3c470687d6"
      },
      "outputs": [
        {
          "output_type": "stream",
          "name": "stdout",
          "text": [
            "hi\n"
          ]
        }
      ],
      "source": [
        "print('hi')"
      ]
    },
    {
      "cell_type": "code",
      "source": [
        "temp=float(input('請輸入你的體溫：'))\n",
        "if temp >= 37.5 :\n",
        "  print('體溫過高！')\n",
        "elif temp <= 37 and temp >= 37.4:\n",
        "  print('體溫略高！')\n",
        "elif temp >= 34 and temp <= 36.9:\n",
        "  print('體溫正常！')\n",
        "  \n",
        "else:\n",
        "  print('體溫異常,請重新量測！')"
      ],
      "metadata": {
        "colab": {
          "base_uri": "https://localhost:8080/"
        },
        "id": "dQi_2vuu-A-3",
        "outputId": "e2e5ee0d-445a-4af8-dc73-103cb5cdd9be"
      },
      "execution_count": 6,
      "outputs": [
        {
          "output_type": "stream",
          "name": "stdout",
          "text": [
            "請輸入你的體溫：33.9\n",
            "體溫異常,請重新量測！\n"
          ]
        }
      ]
    },
    {
      "cell_type": "code",
      "source": [
        "score = input('請輸入成績')\n",
        "if (int(score) >= 90):\n",
        "  print('A')\n",
        "elif (int(score) >= 80):\n",
        "  print('B')\n",
        "elif (int(score) >= 70):\n",
        "  print('C')\n",
        "elif (int(score) >= 60):\n",
        "  print('D')\n",
        "\n",
        "else:\n",
        "  print('E')"
      ],
      "metadata": {
        "id": "dEGaO6pEAXXy",
        "colab": {
          "base_uri": "https://localhost:8080/"
        },
        "outputId": "e661fad0-ec5d-4814-bbbe-2ccdc13d98ea"
      },
      "execution_count": 12,
      "outputs": [
        {
          "output_type": "stream",
          "name": "stdout",
          "text": [
            "請輸入成績75\n",
            "C\n"
          ]
        }
      ]
    },
    {
      "cell_type": "code",
      "source": [
        "money = int(input('請輸入購物金額:'))\n",
        "if (money >= 10000):\n",
        "  if (money >= 100000):\n",
        "    print('八折',money*0.8,end='元\\n')\n",
        "  elif (money >= 50000):\n",
        "    print('八五折',money*0.85,end='元\\n')\n",
        "  elif (money >= 30000):\n",
        "    print('九折',money*0.9,end='元\\n')\n",
        "  else:\n",
        "    print('九五折',money*0.95,end='元\\n')\n",
        "else:\n",
        "  print('沒打折',money,end='元\\n')"
      ],
      "metadata": {
        "colab": {
          "base_uri": "https://localhost:8080/"
        },
        "id": "ggHfdn3nv3DW",
        "outputId": "e2e7566a-4b2a-4a66-fba7-dd4551fa1303"
      },
      "execution_count": 24,
      "outputs": [
        {
          "output_type": "stream",
          "name": "stdout",
          "text": [
            "請輸入購物金額:100\n",
            "沒打折 100元\n"
          ]
        }
      ]
    },
    {
      "cell_type": "code",
      "source": [
        "month = int(input('請輸入月份:'))\n",
        "if(month == 3 or month == 4 or month == 5):\n",
        "  print(month,'月是春天!',sep = '')\n",
        "elif(month == 6 or month == 7 or month == 8):\n",
        "  print(month,'月是夏天!',sep = '')\n",
        "elif(month == 9 or month == 10 or month == 11):\n",
        "  print(month,'月是秋天!',sep = '')\n",
        "elif(month == 12 or month == 1 or month == 2):\n",
        "  print(month,'月是冬天!',sep = '')\n",
        "else:\n",
        "  print('月份不在範圍內!')"
      ],
      "metadata": {
        "colab": {
          "base_uri": "https://localhost:8080/"
        },
        "id": "gr9HO9YR1cjz",
        "outputId": "ac00d938-31b4-4ae3-d938-98d59030020b"
      },
      "execution_count": 38,
      "outputs": [
        {
          "output_type": "stream",
          "name": "stdout",
          "text": [
            "請輸入月份:12\n",
            "12月是冬天!\n"
          ]
        }
      ]
    },
    {
      "cell_type": "code",
      "source": [
        "earning = int(input('請輸入今年收入淨額:'))\n",
        "if(earning >= 2000000):\n",
        "  print('付稅金額:',earning*0.3,end = '元\\n')\n",
        "elif(earning >= 1000000):\n",
        "  print('付稅金額:',earning*0.21,end='元\\n')\n",
        "elif(earning >= 600000):\n",
        "  print('付稅金額:',earning*0.13,end='元\\n')\n",
        "elif(earning >= 300000):\n",
        "  print('付稅金額:',earning*0.06,end='元\\n')\n",
        "else:\n",
        "  print('付稅金額:',0,'元\\n')"
      ],
      "metadata": {
        "colab": {
          "base_uri": "https://localhost:8080/"
        },
        "id": "Y_qCj3HH34cO",
        "outputId": "cb8ad5e4-549c-48e2-fd14-951b51553d69"
      },
      "execution_count": 53,
      "outputs": [
        {
          "output_type": "stream",
          "name": "stdout",
          "text": [
            "請輸入今年收入淨額:400000\n",
            "付稅金額: 24000.0元\n"
          ]
        }
      ]
    }
  ]
}