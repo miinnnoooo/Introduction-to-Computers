{
  "nbformat": 4,
  "nbformat_minor": 0,
  "metadata": {
    "colab": {
      "name": "0523.ipynb",
      "provenance": [],
      "authorship_tag": "ABX9TyPhO2KkAiGhpF7AfHuy0tZu",
      "include_colab_link": true
    },
    "kernelspec": {
      "name": "python3",
      "display_name": "Python 3"
    },
    "language_info": {
      "name": "python"
    }
  },
  "cells": [
    {
      "cell_type": "markdown",
      "metadata": {
        "id": "view-in-github",
        "colab_type": "text"
      },
      "source": [
        "<a href=\"https://colab.research.google.com/github/miinnnoooo/Introduction-to-Computers/blob/main/0523.ipynb\" target=\"_parent\"><img src=\"https://colab.research.google.com/assets/colab-badge.svg\" alt=\"Open In Colab\"/></a>"
      ]
    },
    {
      "cell_type": "code",
      "execution_count": null,
      "metadata": {
        "colab": {
          "base_uri": "https://localhost:8080/"
        },
        "id": "FIO6HZIz_Crr",
        "outputId": "54b8c6a2-05bd-4639-f39b-22cfb98801a0"
      },
      "outputs": [
        {
          "output_type": "stream",
          "name": "stdout",
          "text": [
            "hi\n"
          ]
        }
      ],
      "source": [
        "print('hi')"
      ]
    },
    {
      "cell_type": "code",
      "source": [
        "sum = 0\n",
        "test = int(input('請輸入一個正整數:'))\n",
        "for n in range(1,test+1):\n",
        "  sum = sum + n\n",
        "print('1到',test,'的整數和為',sum)  "
      ],
      "metadata": {
        "colab": {
          "base_uri": "https://localhost:8080/"
        },
        "id": "CO8wqNdF_Huc",
        "outputId": "297ac43b-afd4-475c-b953-d96266eaaf2c"
      },
      "execution_count": null,
      "outputs": [
        {
          "output_type": "stream",
          "name": "stdout",
          "text": [
            "請輸入一個正整數:10\n",
            "1到 10 的整數和為 55\n"
          ]
        }
      ]
    },
    {
      "cell_type": "code",
      "source": [
        "sum = 0\n",
        "test = int(input('請輸入一個正整數:'))\n",
        "for m in range(1,test+1):\n",
        "  sum = sum + m\n",
        "  print('1到',str(m),'的整數和為',sum) "
      ],
      "metadata": {
        "colab": {
          "base_uri": "https://localhost:8080/"
        },
        "id": "OldFAIPxBf2U",
        "outputId": "7a4f6578-11e5-4919-856e-00349e5c1128"
      },
      "execution_count": null,
      "outputs": [
        {
          "output_type": "stream",
          "name": "stdout",
          "text": [
            "請輸入一個正整數:50\n",
            "1到 1 的整數和為 1\n",
            "1到 2 的整數和為 3\n",
            "1到 3 的整數和為 6\n",
            "1到 4 的整數和為 10\n",
            "1到 5 的整數和為 15\n",
            "1到 6 的整數和為 21\n",
            "1到 7 的整數和為 28\n",
            "1到 8 的整數和為 36\n",
            "1到 9 的整數和為 45\n",
            "1到 10 的整數和為 55\n",
            "1到 11 的整數和為 66\n",
            "1到 12 的整數和為 78\n",
            "1到 13 的整數和為 91\n",
            "1到 14 的整數和為 105\n",
            "1到 15 的整數和為 120\n",
            "1到 16 的整數和為 136\n",
            "1到 17 的整數和為 153\n",
            "1到 18 的整數和為 171\n",
            "1到 19 的整數和為 190\n",
            "1到 20 的整數和為 210\n",
            "1到 21 的整數和為 231\n",
            "1到 22 的整數和為 253\n",
            "1到 23 的整數和為 276\n",
            "1到 24 的整數和為 300\n",
            "1到 25 的整數和為 325\n",
            "1到 26 的整數和為 351\n",
            "1到 27 的整數和為 378\n",
            "1到 28 的整數和為 406\n",
            "1到 29 的整數和為 435\n",
            "1到 30 的整數和為 465\n",
            "1到 31 的整數和為 496\n",
            "1到 32 的整數和為 528\n",
            "1到 33 的整數和為 561\n",
            "1到 34 的整數和為 595\n",
            "1到 35 的整數和為 630\n",
            "1到 36 的整數和為 666\n",
            "1到 37 的整數和為 703\n",
            "1到 38 的整數和為 741\n",
            "1到 39 的整數和為 780\n",
            "1到 40 的整數和為 820\n",
            "1到 41 的整數和為 861\n",
            "1到 42 的整數和為 903\n",
            "1到 43 的整數和為 946\n",
            "1到 44 的整數和為 990\n",
            "1到 45 的整數和為 1035\n",
            "1到 46 的整數和為 1081\n",
            "1到 47 的整數和為 1128\n",
            "1到 48 的整數和為 1176\n",
            "1到 49 的整數和為 1225\n",
            "1到 50 的整數和為 1275\n"
          ]
        }
      ]
    },
    {
      "cell_type": "code",
      "source": [
        "for j in range(1,5):\n",
        "  print(j)\n",
        "  for i in range(1,3):\n",
        "    k=i*j\n",
        "    print(j,'*',i,'=',k)"
      ],
      "metadata": {
        "colab": {
          "base_uri": "https://localhost:8080/"
        },
        "id": "Lhkt_IUDCn4M",
        "outputId": "91f895ef-4fb9-40eb-cd5c-3d3fb96f8d78"
      },
      "execution_count": null,
      "outputs": [
        {
          "output_type": "stream",
          "name": "stdout",
          "text": [
            "1\n",
            "1 * 1 = 1\n",
            "1 * 2 = 2\n",
            "2\n",
            "2 * 1 = 2\n",
            "2 * 2 = 4\n",
            "3\n",
            "3 * 1 = 3\n",
            "3 * 2 = 6\n",
            "4\n",
            "4 * 1 = 4\n",
            "4 * 2 = 8\n"
          ]
        }
      ]
    },
    {
      "cell_type": "code",
      "source": [
        "for j in range(1,6):\n",
        "  print(j)\n",
        "  for i in range(1,3):\n",
        "    k=i*j\n",
        "    print(j,'*',i,'=',k)"
      ],
      "metadata": {
        "colab": {
          "base_uri": "https://localhost:8080/"
        },
        "id": "10-AxnKaD817",
        "outputId": "5272c85f-22b8-4038-d82b-f50759328367"
      },
      "execution_count": null,
      "outputs": [
        {
          "output_type": "stream",
          "name": "stdout",
          "text": [
            "1\n",
            "1 * 1 = 1\n",
            "1 * 2 = 2\n",
            "2\n",
            "2 * 1 = 2\n",
            "2 * 2 = 4\n",
            "3\n",
            "3 * 1 = 3\n",
            "3 * 2 = 6\n",
            "4\n",
            "4 * 1 = 4\n",
            "4 * 2 = 8\n",
            "5\n",
            "5 * 1 = 5\n",
            "5 * 2 = 10\n"
          ]
        }
      ]
    },
    {
      "cell_type": "code",
      "source": [
        "for j in range(1,10):\n",
        "  for i in range(1,10):\n",
        "    print(f'{i}*{j}={i*j}',end='\\t')\n",
        "  print()"
      ],
      "metadata": {
        "colab": {
          "base_uri": "https://localhost:8080/"
        },
        "id": "wUfwDuWhEKdR",
        "outputId": "45295c1b-34e2-4888-eb8f-664cd4e4382a"
      },
      "execution_count": null,
      "outputs": [
        {
          "output_type": "stream",
          "name": "stdout",
          "text": [
            "1*1=1\t2*1=2\t3*1=3\t4*1=4\t5*1=5\t6*1=6\t7*1=7\t8*1=8\t9*1=9\t\n",
            "1*2=2\t2*2=4\t3*2=6\t4*2=8\t5*2=10\t6*2=12\t7*2=14\t8*2=16\t9*2=18\t\n",
            "1*3=3\t2*3=6\t3*3=9\t4*3=12\t5*3=15\t6*3=18\t7*3=21\t8*3=24\t9*3=27\t\n",
            "1*4=4\t2*4=8\t3*4=12\t4*4=16\t5*4=20\t6*4=24\t7*4=28\t8*4=32\t9*4=36\t\n",
            "1*5=5\t2*5=10\t3*5=15\t4*5=20\t5*5=25\t6*5=30\t7*5=35\t8*5=40\t9*5=45\t\n",
            "1*6=6\t2*6=12\t3*6=18\t4*6=24\t5*6=30\t6*6=36\t7*6=42\t8*6=48\t9*6=54\t\n",
            "1*7=7\t2*7=14\t3*7=21\t4*7=28\t5*7=35\t6*7=42\t7*7=49\t8*7=56\t9*7=63\t\n",
            "1*8=8\t2*8=16\t3*8=24\t4*8=32\t5*8=40\t6*8=48\t7*8=56\t8*8=64\t9*8=72\t\n",
            "1*9=9\t2*9=18\t3*9=27\t4*9=36\t5*9=45\t6*9=54\t7*9=63\t8*9=72\t9*9=81\t\n"
          ]
        }
      ]
    },
    {
      "cell_type": "code",
      "source": [
        "for i in range(1,5):\n",
        "  if (i==4):\n",
        "    break\n",
        "  print(i,end=' ')"
      ],
      "metadata": {
        "colab": {
          "base_uri": "https://localhost:8080/"
        },
        "id": "9msmKxG0FPmP",
        "outputId": "5ee86ccc-a2ae-4fd8-c4d1-cbd4652fc00d"
      },
      "execution_count": null,
      "outputs": [
        {
          "output_type": "stream",
          "name": "stdout",
          "text": [
            "1 2 3 "
          ]
        }
      ]
    },
    {
      "cell_type": "code",
      "source": [
        "for i in range(1,5):\n",
        "  if (i==4):\n",
        "    continue\n",
        "  print(i,end=' ')"
      ],
      "metadata": {
        "colab": {
          "base_uri": "https://localhost:8080/"
        },
        "id": "k8AiTS4_FdIP",
        "outputId": "29277059-4db1-48a6-b170-c30797a71764"
      },
      "execution_count": null,
      "outputs": [
        {
          "output_type": "stream",
          "name": "stdout",
          "text": [
            "1 2 3 "
          ]
        }
      ]
    },
    {
      "cell_type": "code",
      "source": [
        "for i in range(1,5):\n",
        "  if (i==4):\n",
        "    count\n",
        "  print(i,end=' ')"
      ],
      "metadata": {
        "colab": {
          "base_uri": "https://localhost:8080/"
        },
        "id": "zDuiFQFuVqTb",
        "outputId": "5eb54477-9c75-4544-bef7-37284234dc04"
      },
      "execution_count": 9,
      "outputs": [
        {
          "output_type": "stream",
          "name": "stdout",
          "text": [
            "1 2 3 4 "
          ]
        }
      ]
    },
    {
      "cell_type": "code",
      "source": [
        "count = 0\n",
        "for string in '測試看看!':\n",
        "  count += 1\n",
        "  if string == '看':\n",
        "    break\n",
        "  print(string)\n",
        "print('迴圈結束')\n",
        "print('迴圈執行了 %d 次' %count)"
      ],
      "metadata": {
        "colab": {
          "base_uri": "https://localhost:8080/"
        },
        "id": "RGqpk2vuF_8s",
        "outputId": "e7d415e5-0a02-40a5-81b9-f5d01aca9251"
      },
      "execution_count": null,
      "outputs": [
        {
          "output_type": "stream",
          "name": "stdout",
          "text": [
            "測\n",
            "試\n",
            "迴圈結束\n",
            "迴圈執行了 3 次\n"
          ]
        }
      ]
    },
    {
      "cell_type": "code",
      "source": [
        "count = 0\n",
        "for string in 'test!':\n",
        "  count += 1\n",
        "  if string == 's':\n",
        "    break\n",
        "  print(string)\n",
        "print('迴圈結束')\n",
        "print('迴圈執行了 %d 次' %count)"
      ],
      "metadata": {
        "colab": {
          "base_uri": "https://localhost:8080/"
        },
        "id": "bFo-DX9NHRiJ",
        "outputId": "d55f0087-e793-4a36-f1c8-70145d64465a"
      },
      "execution_count": 1,
      "outputs": [
        {
          "output_type": "stream",
          "name": "stdout",
          "text": [
            "t\n",
            "e\n",
            "迴圈結束\n",
            "迴圈執行了 3 次\n"
          ]
        }
      ]
    },
    {
      "cell_type": "markdown",
      "source": [
        "![擷JPG.JPG](data:image/jpeg;base64,/9j/4AAQSkZJRgABAQEAYABgAAD/4RDiRXhpZgAATU0AKgAAAAgABAE7AAIAAAAIAAAISodpAAQAAAABAAAIUpydAAEAAAAQAAAQyuocAAcAAAgMAAAAPgAAAAAc6gAAAAgAAAAAAAAAAAAAAAAAAAAAAAAAAAAAAAAAAAAAAAAAAAAAAAAAAAAAAAAAAAAAAAAAAAAAAAAAAAAAAAAAAAAAAAAAAAAAAAAAAAAAAAAAAAAAAAAAAAAAAAAAAAAAAAAAAAAAAAAAAAAAAAAAAAAAAAAAAAAAAAAAAAAAAAAAAAAAAAAAAAAAAAAAAAAAAAAAAAAAAAAAAAAAAAAAAAAAAAAAAAAAAAAAAAAAAAAAAAAAAAAAAAAAAAAAAAAAAAAAAAAAAAAAAAAAAAAAAAAAAAAAAAAAAAAAAAAAAAAAAAAAAAAAAAAAAAAAAAAAAAAAAAAAAAAAAAAAAAAAAAAAAAAAAAAAAAAAAAAAAAAAAAAAAAAAAAAAAAAAAAAAAAAAAAAAAAAAAAAAAAAAAAAAAAAAAAAAAAAAAAAAAAAAAAAAAAAAAAAAAAAAAAAAAAAAAAAAAAAAAAAAAAAAAAAAAAAAAAAAAAAAAAAAAAAAAAAAAAAAAAAAAAAAAAAAAAAAAAAAAAAAAAAAAAAAAAAAAAAAAAAAAAAAAAAAAAAAAAAAAAAAAAAAAAAAAAAAAAAAAAAAAAAAAAAAAAAAAAAAAAAAAAAAAAAAAAAAAAAAAAAAAAAAAAAAAAAAAAAAAAAAAAAAAAAAAAAAAAAAAAAAAAAAAAAAAAAAAAAAAAAAAAAAAAAAAAAAAAAAAAAAAAAAAAAAAAAAAAAAAAAAAAAAAAAAAAAAAAAAAAAAAAAAAAAAAAAAAAAAAAAAAAAAAAAAAAAAAAAAAAAAAAAAAAAAAAAAAAAAAAAAAAAAAAAAAAAAAAAAAAAAAAAAAAAAAAAAAAAAAAAAAAAAAAAAAAAAAAAAAAAAAAAAAAAAAAAAAAAAAAAAAAAAAAAAAAAAAAAAAAAAAAAAAAAAAAAAAAAAAAAAAAAAAAAAAAAAAAAAAAAAAAAAAAAAAAAAAAAAAAAAAAAAAAAAAAAAAAAAAAAAAAAAAAAAAAAAAAAAAAAAAAAAAAAAAAAAAAAAAAAAAAAAAAAAAAAAAAAAAAAAAAAAAAAAAAAAAAAAAAAAAAAAAAAAAAAAAAAAAAAAAAAAAAAAAAAAAAAAAAAAAAAAAAAAAAAAAAAAAAAAAAAAAAAAAAAAAAAAAAAAAAAAAAAAAAAAAAAAAAAAAAAAAAAAAAAAAAAAAAAAAAAAAAAAAAAAAAAAAAAAAAAAAAAAAAAAAAAAAAAAAAAAAAAAAAAAAAAAAAAAAAAAAAAAAAAAAAAAAAAAAAAAAAAAAAAAAAAAAAAAAAAAAAAAAAAAAAAAAAAAAAAAAAAAAAAAAAAAAAAAAAAAAAAAAAAAAAAAAAAAAAAAAAAAAAAAAAAAAAAAAAAAAAAAAAAAAAAAAAAAAAAAAAAAAAAAAAAAAAAAAAAAAAAAAAAAAAAAAAAAAAAAAAAAAAAAAAAAAAAAAAAAAAAAAAAAAAAAAAAAAAAAAAAAAAAAAAAAAAAAAAAAAAAAAAAAAAAAAAAAAAAAAAAAAAAAAAAAAAAAAAAAAAAAAAAAAAAAAAAAAAAAAAAAAAAAAAAAAAAAAAAAAAAAAAAAAAAAAAAAAAAAAAAAAAAAAAAAAAAAAAAAAAAAAAAAAAAAAAAAAAAAAAAAAAAAAAAAAAAAAAAAAAAAAAAAAAAAAAAAAAAAAAAAAAAAAAAAAAAAAAAAAAAAAAAAAAAAAAAAAAAAAAAAAAAAAAAAAAAAAAAAAAAAAAAAAAAAAAAAAAAAAAAAAAAAAAAAAAAAAAAAAAAAAAAAAAAAAAAAAAAAAAAAAAAAAAAAAAAAAAAAAAAAAAAAAAAAAAAAAAAAAAAAAAAAAAAAAAAAAAAAAAAAAAAAAAAAAAAAAAAAAAAAAAAAAAAAAAAAAAAAAAAAAAAAAAAAAAAAAAAAAAAAAAAAAAAAAAAAAAAAAAAAAAAAAAAAAAAAAAAAAAAAAAAAAAAAAAAAAAAAAAAAAAAAAAAAAAAAAAAAAAAAAAAAAAAAAAAAAAAAAAAAAAAAAAAAAAAAAAAAAAAAAAAAAAAAAAAAAAAAAAAAAAAAAAAAAAAAAAAAAAAAAAAAAAAAAAAAAAAAAAAAAAAAAAAAAAAAAAAAAAAAAAAAAAAAAAAAAAAAAAAAAAAAAAAAAAAAAAAAAAAAAAAAAAAAAAAAAAAAAAAAAAAAAAAAAAAAAAAAAAAAAAAAAAAAAAAAAAAAAAAAAAAAAAAAAAAAAAAAAAAAAAAAAAAAAAAAAAAAAAAAAAAAAAAAAAAAAAAAAAAAAAAAAAAAAAAAAAAAAAAAAAAAAAAAAAAAAAAAAAAAAAAAAAAAAAAAAAAAAAAAAAAAAAAAAAAAAAAAAAAAAAAAAAAAAAAAAAAAAAAAAAAAAAAAAAAAAAAAAAAAAAAAAAAAAAAAAAAAAAAAAAAAAAAAAAAAAAAAAAAAAAAAAAAAAAAAAAAAAAAAAAAAAAAAAAAAAAAAAAAAAAAAAAAAAAAAAAAAAAAAAAAAAAAAAAAAAAAAAAAAAAAAAAAAAAAAAAAAAAAAAAAAAAAAAAAAAAAAAAAAAAAAAAAAAAAAAAAAAAAAAAAAAAAAAAAAAAAAAAAAAAAAAAAAAAAAAAAAAAAAAAAAAAAAAAAAAAAAAAAAAAAAAAAAAAAAAAAAAAAAAAAAAAAAAAAAAAAAAAAAAAAAAAAAAAAAAAAAAAAAAAAAAAAAAAAAAAAAAAAAAAAAAAAAAAAAAAAAAAAAAAAAAAAAAExlbyBMaW4AAAWQAwACAAAAFAAAEKCQBAACAAAAFAAAELSSkQACAAAAAzc1AACSkgACAAAAAzc1AADqHAAHAAAIDAAACJQAAAAAHOoAAAAIAAAAAAAAAAAAAAAAAAAAAAAAAAAAAAAAAAAAAAAAAAAAAAAAAAAAAAAAAAAAAAAAAAAAAAAAAAAAAAAAAAAAAAAAAAAAAAAAAAAAAAAAAAAAAAAAAAAAAAAAAAAAAAAAAAAAAAAAAAAAAAAAAAAAAAAAAAAAAAAAAAAAAAAAAAAAAAAAAAAAAAAAAAAAAAAAAAAAAAAAAAAAAAAAAAAAAAAAAAAAAAAAAAAAAAAAAAAAAAAAAAAAAAAAAAAAAAAAAAAAAAAAAAAAAAAAAAAAAAAAAAAAAAAAAAAAAAAAAAAAAAAAAAAAAAAAAAAAAAAAAAAAAAAAAAAAAAAAAAAAAAAAAAAAAAAAAAAAAAAAAAAAAAAAAAAAAAAAAAAAAAAAAAAAAAAAAAAAAAAAAAAAAAAAAAAAAAAAAAAAAAAAAAAAAAAAAAAAAAAAAAAAAAAAAAAAAAAAAAAAAAAAAAAAAAAAAAAAAAAAAAAAAAAAAAAAAAAAAAAAAAAAAAAAAAAAAAAAAAAAAAAAAAAAAAAAAAAAAAAAAAAAAAAAAAAAAAAAAAAAAAAAAAAAAAAAAAAAAAAAAAAAAAAAAAAAAAAAAAAAAAAAAAAAAAAAAAAAAAAAAAAAAAAAAAAAAAAAAAAAAAAAAAAAAAAAAAAAAAAAAAAAAAAAAAAAAAAAAAAAAAAAAAAAAAAAAAAAAAAAAAAAAAAAAAAAAAAAAAAAAAAAAAAAAAAAAAAAAAAAAAAAAAAAAAAAAAAAAAAAAAAAAAAAAAAAAAAAAAAAAAAAAAAAAAAAAAAAAAAAAAAAAAAAAAAAAAAAAAAAAAAAAAAAAAAAAAAAAAAAAAAAAAAAAAAAAAAAAAAAAAAAAAAAAAAAAAAAAAAAAAAAAAAAAAAAAAAAAAAAAAAAAAAAAAAAAAAAAAAAAAAAAAAAAAAAAAAAAAAAAAAAAAAAAAAAAAAAAAAAAAAAAAAAAAAAAAAAAAAAAAAAAAAAAAAAAAAAAAAAAAAAAAAAAAAAAAAAAAAAAAAAAAAAAAAAAAAAAAAAAAAAAAAAAAAAAAAAAAAAAAAAAAAAAAAAAAAAAAAAAAAAAAAAAAAAAAAAAAAAAAAAAAAAAAAAAAAAAAAAAAAAAAAAAAAAAAAAAAAAAAAAAAAAAAAAAAAAAAAAAAAAAAAAAAAAAAAAAAAAAAAAAAAAAAAAAAAAAAAAAAAAAAAAAAAAAAAAAAAAAAAAAAAAAAAAAAAAAAAAAAAAAAAAAAAAAAAAAAAAAAAAAAAAAAAAAAAAAAAAAAAAAAAAAAAAAAAAAAAAAAAAAAAAAAAAAAAAAAAAAAAAAAAAAAAAAAAAAAAAAAAAAAAAAAAAAAAAAAAAAAAAAAAAAAAAAAAAAAAAAAAAAAAAAAAAAAAAAAAAAAAAAAAAAAAAAAAAAAAAAAAAAAAAAAAAAAAAAAAAAAAAAAAAAAAAAAAAAAAAAAAAAAAAAAAAAAAAAAAAAAAAAAAAAAAAAAAAAAAAAAAAAAAAAAAAAAAAAAAAAAAAAAAAAAAAAAAAAAAAAAAAAAAAAAAAAAAAAAAAAAAAAAAAAAAAAAAAAAAAAAAAAAAAAAAAAAAAAAAAAAAAAAAAAAAAAAAAAAAAAAAAAAAAAAAAAAAAAAAAAAAAAAAAAAAAAAAAAAAAAAAAAAAAAAAAAAAAAAAAAAAAAAAAAAAAAAAAAAAAAAAAAAAAAAAAAAAAAAAAAAAAAAAAAAAAAAAAAAAAAAAAAAAAAAAAAAAAAAAAAAAAAAAAAAAAAAAAAAAAAAAAAAAAAAAAAAAAAAAAAAAAAAAAAAAAAAAAAAAAAAAAAAAAAAAAAAAAAAAAAAAAAAAAAAAAAAAAAAAAAAAAAAAAAAAAAAAAAAAAAAAAAAAAAAAAAAAAAAAAAAAAAAAAAAAAAAAAAAAAAAAAAAAAAAAAAAAAAAAAAAAAAAAAAAAAAAAAAAAAAAAAAAAAAAAAAAAAAAAAAAAAAAAAAAAAAAAAAAAAAAAAAAAAAAAAAAAAAAAAAAAAAAAAAAAAAAAAAAAAAAAAAAAAAAAAAAAAAAAAAAAAAAAAAAAAAAAAAAAAAAAAAAAAAAAAAAAAAAAAAAAAAAAAAAAAAAAAAAAAAAAAAAAAAAAAAAAAAAAAAAAAAAAAAAAAAAAAAAAAAAAAAAAAAAAAAAAAAAAAAAAAAAAAAAAAAAAAAAAAAAAAAAAAAAAAAAAAAAAAAAAAAAAAAAAAAAAAAAAAAAAAAAAAAAAAAAAAAAAAAAAAAAAAAAAAAAAAAAAAAAAAAAAAAAAAAAAAAAAAAAAAAAAAAAAAAAAAAAAAAAAAAAAAAAAAAAAAAAAAAAAAAAAAAAAAAAAAAAAAAAAAAAAAAAAAAAAAAAAAAAAAAAAAAAAAAAAAAAAAAAAAAAAAAAAAAAAAAAAAAAAAAAAAAAAAAAAAAAAAAAAAAAAAAAAAAAAAAAAAAAAAAAAAAAAAAAAAAAAAAAAAAAAAAAAAAAAAAAAAAAAAAAAAAAAAAAAAAAAAAAAAAAAAAAAAAAAAAAAAAAAAAAAAAAAAAAAAAAAAAAAAAAAAAAAAAAAAAAAAAAAAAAAAAAAAAAAAAAAAAAAAAAAAAAAAAAAAAAAAAAAAAAAAAAAAAAAAAAAAAAAAAAAAAAAAAAAAAAAAAAAAAAAAAAAAAAAAAAAAAAAAAAAAAAAAAAAAAAAAAAAAAAAAAAAAAAAAAAAAAAAAAAAAAAAAAAAAAAAyMDIyOjA1OjI2IDIwOjA1OjE4ADIwMjI6MDU6MjYgMjA6MDU6MTgAAABMAGUAbwAgAEwAaQBuAAAA/+ELGmh0dHA6Ly9ucy5hZG9iZS5jb20veGFwLzEuMC8APD94cGFja2V0IGJlZ2luPSfvu78nIGlkPSdXNU0wTXBDZWhpSHpyZVN6TlRjemtjOWQnPz4NCjx4OnhtcG1ldGEgeG1sbnM6eD0iYWRvYmU6bnM6bWV0YS8iPjxyZGY6UkRGIHhtbG5zOnJkZj0iaHR0cDovL3d3dy53My5vcmcvMTk5OS8wMi8yMi1yZGYtc3ludGF4LW5zIyI+PHJkZjpEZXNjcmlwdGlvbiByZGY6YWJvdXQ9InV1aWQ6ZmFmNWJkZDUtYmEzZC0xMWRhLWFkMzEtZDMzZDc1MTgyZjFiIiB4bWxuczpkYz0iaHR0cDovL3B1cmwub3JnL2RjL2VsZW1lbnRzLzEuMS8iLz48cmRmOkRlc2NyaXB0aW9uIHJkZjphYm91dD0idXVpZDpmYWY1YmRkNS1iYTNkLTExZGEtYWQzMS1kMzNkNzUxODJmMWIiIHhtbG5zOnhtcD0iaHR0cDovL25zLmFkb2JlLmNvbS94YXAvMS4wLyI+PHhtcDpDcmVhdGVEYXRlPjIwMjItMDUtMjZUMjA6MDU6MTguNzUyPC94bXA6Q3JlYXRlRGF0ZT48L3JkZjpEZXNjcmlwdGlvbj48cmRmOkRlc2NyaXB0aW9uIHJkZjphYm91dD0idXVpZDpmYWY1YmRkNS1iYTNkLTExZGEtYWQzMS1kMzNkNzUxODJmMWIiIHhtbG5zOmRjPSJodHRwOi8vcHVybC5vcmcvZGMvZWxlbWVudHMvMS4xLyI+PGRjOmNyZWF0b3I+PHJkZjpTZXEgeG1sbnM6cmRmPSJodHRwOi8vd3d3LnczLm9yZy8xOTk5LzAyLzIyLXJkZi1zeW50YXgtbnMjIj48cmRmOmxpPkxlbyBMaW48L3JkZjpsaT48L3JkZjpTZXE+DQoJCQk8L2RjOmNyZWF0b3I+PC9yZGY6RGVzY3JpcHRpb24+PC9yZGY6UkRGPjwveDp4bXBtZXRhPg0KICAgICAgICAgICAgICAgICAgICAgICAgICAgICAgICAgICAgICAgICAgICAgICAgICAgICAgICAgICAgICAgICAgICAgICAgICAgICAgICAgICAgICAgICAgICAgICAgICAgIAogICAgICAgICAgICAgICAgICAgICAgICAgICAgICAgICAgICAgICAgICAgICAgICAgICAgICAgICAgICAgICAgICAgICAgICAgICAgICAgICAgICAgICAgICAgICAgICAgICAgCiAgICAgICAgICAgICAgICAgICAgICAgICAgICAgICAgICAgICAgICAgICAgICAgICAgICAgICAgICAgICAgICAgICAgICAgICAgICAgICAgICAgICAgICAgICAgICAgICAgICAKICAgICAgICAgICAgICAgICAgICAgICAgICAgICAgICAgICAgICAgICAgICAgICAgICAgICAgICAgICAgICAgICAgICAgICAgICAgICAgICAgICAgICAgICAgICAgICAgICAgIAogICAgICAgICAgICAgICAgICAgICAgICAgICAgICAgICAgICAgICAgICAgICAgICAgICAgICAgICAgICAgICAgICAgICAgICAgICAgICAgICAgICAgICAgICAgICAgICAgICAgCiAgICAgICAgICAgICAgICAgICAgICAgICAgICAgICAgICAgICAgICAgICAgICAgICAgICAgICAgICAgICAgICAgICAgICAgICAgICAgICAgICAgICAgICAgICAgICAgICAgICAKICAgICAgICAgICAgICAgICAgICAgICAgICAgICAgICAgICAgICAgICAgICAgICAgICAgICAgICAgICAgICAgICAgICAgICAgICAgICAgICAgICAgICAgICAgICAgICAgICAgIAogICAgICAgICAgICAgICAgICAgICAgICAgICAgICAgICAgICAgICAgICAgICAgICAgICAgICAgICAgICAgICAgICAgICAgICAgICAgICAgICAgICAgICAgICAgICAgICAgICAgCiAgICAgICAgICAgICAgICAgICAgICAgICAgICAgICAgICAgICAgICAgICAgICAgICAgICAgICAgICAgICAgICAgICAgICAgICAgICAgICAgICAgICAgICAgICAgICAgICAgICAKICAgICAgICAgICAgICAgICAgICAgICAgICAgICAgICAgICAgICAgICAgICAgICAgICAgICAgICAgICAgICAgICAgICAgICAgICAgICAgICAgICAgICAgICAgICAgICAgICAgIAogICAgICAgICAgICAgICAgICAgICAgICAgICAgICAgICAgICAgICAgICAgICAgICAgICAgICAgICAgICAgICAgICAgICAgICAgICAgICAgICAgICAgICAgICAgICAgICAgICAgCiAgICAgICAgICAgICAgICAgICAgICAgICAgICAgICAgICAgICAgICAgICAgICAgICAgICAgICAgICAgICAgICAgICAgICAgICAgICAgICAgICAgICAgICAgICAgICAgICAgICAKICAgICAgICAgICAgICAgICAgICAgICAgICAgICAgICAgICAgICAgICAgICAgICAgICAgICAgICAgICAgICAgICAgICAgICAgICAgICAgICAgICAgICAgICAgICAgICAgICAgIAogICAgICAgICAgICAgICAgICAgICAgICAgICAgICAgICAgICAgICAgICAgICAgICAgICAgICAgICAgICAgICAgICAgICAgICAgICAgICAgICAgICAgICAgICAgICAgICAgICAgCiAgICAgICAgICAgICAgICAgICAgICAgICAgICAgICAgICAgICAgICAgICAgICAgICAgICAgICAgICAgICAgICAgICAgICAgICAgICAgICAgICAgICAgICAgICAgICAgICAgICAKICAgICAgICAgICAgICAgICAgICAgICAgICAgICAgICAgICAgICAgICAgICAgICAgICAgICAgICAgICAgICAgICAgICAgICAgICAgICAgICAgICAgICAgICAgICAgICAgICAgIAogICAgICAgICAgICAgICAgICAgICAgICAgICAgICAgICAgICAgICAgICAgICAgICAgICAgICAgICAgICAgICAgICAgICAgICAgICAgICAgICAgICAgICAgICAgICAgICAgICAgCiAgICAgICAgICAgICAgICAgICAgICAgICAgICAgICAgICAgICAgICAgICAgICAgICAgICAgICAgICAgICAgICAgICAgICAgICAgICAgICAgICAgICAgICAgICAgICAgICAgICAKICAgICAgICAgICAgICAgICAgICAgICAgICAgICAgICAgICAgICAgICAgICAgICAgICAgICAgICAgICAgICAgICAgICAgICAgICAgICAgICAgICAgICAgICAgICAgICAgICAgIAogICAgICAgICAgICAgICAgICAgICAgICAgICAgICAgICAgICAgICAgICAgICAgICAgICAgICAgICAgICAgICAgICAgICAgICAgICAgICAgICAgICAgICAgICAgICAgICAgICAgCiAgICAgICAgICAgICAgICAgICAgICAgICAgICA8P3hwYWNrZXQgZW5kPSd3Jz8+/9sAQwAHBQUGBQQHBgUGCAcHCAoRCwoJCQoVDxAMERgVGhkYFRgXGx4nIRsdJR0XGCIuIiUoKSssKxogLzMvKjInKisq/9sAQwEHCAgKCQoUCwsUKhwYHCoqKioqKioqKioqKioqKioqKioqKioqKioqKioqKioqKioqKioqKioqKioqKioqKioq/8AAEQgAhgIbAwEiAAIRAQMRAf/EAB8AAAEFAQEBAQEBAAAAAAAAAAABAgMEBQYHCAkKC//EALUQAAIBAwMCBAMFBQQEAAABfQECAwAEEQUSITFBBhNRYQcicRQygZGhCCNCscEVUtHwJDNicoIJChYXGBkaJSYnKCkqNDU2Nzg5OkNERUZHSElKU1RVVldYWVpjZGVmZ2hpanN0dXZ3eHl6g4SFhoeIiYqSk5SVlpeYmZqio6Slpqeoqaqys7S1tre4ubrCw8TFxsfIycrS09TV1tfY2drh4uPk5ebn6Onq8fLz9PX29/j5+v/EAB8BAAMBAQEBAQEBAQEAAAAAAAABAgMEBQYHCAkKC//EALURAAIBAgQEAwQHBQQEAAECdwABAgMRBAUhMQYSQVEHYXETIjKBCBRCkaGxwQkjM1LwFWJy0QoWJDThJfEXGBkaJicoKSo1Njc4OTpDREVGR0hJSlNUVVZXWFlaY2RlZmdoaWpzdHV2d3h5eoKDhIWGh4iJipKTlJWWl5iZmqKjpKWmp6ipqrKztLW2t7i5usLDxMXGx8jJytLT1NXW19jZ2uLj5OXm5+jp6vLz9PX29/j5+v/aAAwDAQACEQMRAD8A9ovfFWow31/FZaPDcQ2U4gaR73y2Ziqtwuw/3x3qsPGes558OQ49RqI/+N1A3/H14h/7Caf+ioa469ji/tCYjz52/tRE8pLplJBgDEDLAAZJNAHcHxnq/bw9F/4MB/8AEUf8JnrA/wCZdi/8GA/+Iri57zWtLtLi0a4tjOkL3ELtE0m2MByVJ3DcVOxc4HByRzUn9rXtjdeRLNautw7qkpVvkbfGu4jd9395wue3Xnhgdf8A8JprPbw5F/4MR/8AG6T/AITTWf8AoXIf/BiP/jdcrb63qDakIJvsflxypE5UNuk3M65UZ45QHHPXHvVq+1ma1mumRrbyrRSHifIkY7N4IIPA9sdATnjFIDoP+E01n/oXIf8AwYj/AON0o8aaz/0LkP8A4MR/8brkzrmoxXzwSfY2jgeNXlAYeaGkC5UZOOGHc8g0kWv3kkfl7rZbhI5JXDRMAdgQ7B82MnePmBIxg47AA68+M9X7eHYv/BgP/iKb/wAJnrP/AELkP/gxH/xuuPtNVuYZorS2UFTNLJK1w+dqecVxksCCM9g3YY5rp8UAWf8AhM9Z/wChch/8GI/+N0f8JnrP/QuQ/wDgxH/xuq2BRgUwLP8Awmes/wDQuQ/+DEf/ABuj/hM9Z/6FyH/wYj/43VbAowKALP8Awmes/wDQuQ/+DEf/ABuj/hM9Z/6FyH/wYj/43VbAowKALP8Awmes/wDQuQ/+DEf/ABuj/hM9Z/6FyH/wYj/43VbAowKALP8Awmes/wDQuQ/+DEf/ABuj/hM9Z/6FyH/wYj/43VbAowKALP8Awmes/wDQuQ/+DEf/ABuj/hM9Z/6FyH/wYj/43VbAowKALP8Awmes/wDQuQ/+DEf/ABuj/hM9Z/6FyH/wYj/43VbAowKALP8Awmes/wDQuQ/+DEf/ABuj/hM9Z/6FyH/wYj/43VbAowKALP8Awmes/wDQuQ/+DEf/ABuj/hM9Z/6FyH/wYj/43VbAowKALP8Awmes/wDQuQ/+DEf/ABuj/hM9Z/6FyH/wYj/43VbAowKALP8Awmes/wDQuQ/+DEf/ABuj/hM9Z/6FyH/wYj/43VbAowKANfQfFV1qutvp17pa2Ti3M6ul15uQGC4xtGOtdLXDeHePHrf9g1v/AEatdzSAx9e1q50qSxisrJLya8laNVefyguELE52t2WqJ1/xD/0L9r+Opf8A2un+Jv8AkN+H/wDr5l/9EPXO6rqDWV0MxXM3nXRhUQyAbSScZyw447UAb3/CQeIB18P2v/gz/wDtdH/CQeIP+hetf/Bn/wDa65O38Q28ska3n2ixEzOkLXM6gSMjbWAIY857d+1Svr2nrN5UV+JmWQJL5dznysgnLfNwPlIpgdP/AG/4h/6F61/8Gf8A9ro/t/xD/wBC9a/+DP8A+11hLfWrOUW9jZwoYgXHIB6Hr0PrThdW5tftQu1+z43ed5/yY9d2cYoA2/7f8Q/9C9a/+DP/AO10f2/4h/6F61/8Gf8A9rrD+2Wu6NBeoWlQvGon5deu4c8j3FIt7aMUAvoyXcxqPtH3mHVRzyR6UAbv9v8AiH/oXrX/AMGf/wBro/t/xD/0L1r/AODP/wC11zv9p27XEEcMxmWZnXzYptyoyjJB564zVmCaK5hEtvcedG3R45iyn8QaANn+3/EP/QvWv/gz/wDtdH9v+If+hetf/Bn/APa6ysf7T/8AfZ/xox/tP/32f8aANX+3/EP/AEL1r/4M/wD7XR/b/iH/AKF61/8ABn/9rrKx/tP/AN9n/GjH+0//AH2f8aANX+3/ABD/ANC9a/8Agz/+10f2/wCIf+hetf8AwZ//AGusrH+0/wD32f8AGjH+0/8A32f8aANX+3/EP/QvWv8A4M//ALXR/b/iH/oXrX/wZ/8A2usrH+0//fZ/xox/tP8A99n/ABoA1f7f8Q/9C9a/+DP/AO10f2/4h/6F61/8Gf8A9rrKx/tP/wB9n/GjH+0//fZ/xoA1f7f8Q/8AQvWv/gz/APtdH9v+If8AoXrX/wAGf/2usrH+0/8A32f8aMf7T/8AfZ/xoA1f7f8AEP8A0L1r/wCDP/7XR/b/AIh/6F61/wDBn/8Aa6ysf7T/APfZ/wAaMf7T/wDfZ/xoA1f7f8Q/9C9a/wDgz/8AtdH9v+If+hetf/Bn/wDa6ysf7T/99n/GjH+0/wD32f8AGgDV/t/xD/0L1r/4M/8A7XR/b/iH/oXrX/wZ/wD2usrH+0//AH2f8aMf7T/99n/GgDV/t/xD/wBC9a/+DP8A+10f2/4h/wChetf/AAZ//a6ysf7T/wDfZ/xox/tP/wB9n/GgDV/t/wAQ/wDQvWv/AIM//tdH9v8AiH/oXrX/AMGf/wBrrKx/tP8A99n/ABox/tP/AN9n/GgC9eeLNZ0+1NzeaBbrCrKGKajuIyQM48vnrXXV5j4gyNEl+Z/vR9XJ/jWvTqQHFxQtcX/iGOPG7+0lI3dOIojVc+HFMhkNnZb92/cVGS3rnb196v6Z/wAhjxB/2Ef/AGhFWXFe+JJ421CxFpeQm5lh+wFfKKojsm4Sknn5QcbccmmBP/YM3nyzN5btKu0h5WZQMcgAjAB7460ReFCFDRadZgMp5EWMgjn+HvVnS9Wurq9kstT042F0kYmCrOsqshOM7hjnPbFdZa/8ekP+4P5UgONHhaQMrCwtAy42ny+Rjpj5e1SHw9dtP5xtoDLt2+YVO7Hpnb0rZubzU73Ubyz0ea1tms1Tc9zA0okZl3ADDLgAY556+1RN4ttLWOIX8c6yOfLDRQtIkkgYI6pjJOGOOQM9s0AYv/CJtgD+zrPCrtH7roM5x93pnmnjwvKIliFjaiNW3qgj4DeoG3r71uReKLOUSlYLkGLarKYwD5jYxHjOd3zDrx71Uk8YWtrNdz3zrBZwxRkLIBHIkpd0ZGLNt6qMdB3yRzQBmjwvKpUrY2oKMXUiP7rHqR8vB96n/sXUP7kf5t/8TW1faw3/AAidxq+lhWK2zXEQmUgHAzgjr2pLnVp45dRECRyC2CRRKxxvnYZwT2GGT8zQBj/2NqH9yP8ANv8A4mj+xtQ/uR/m3/xNdHZajHf6PFqEAyksXmBT1HHQ+4PFcD/wnfiP+x/7X+zad9j3bcfNuzn7v3uuOc4oA2xouof3I/zb/wCJpH0m+RcusajOMlm/wrrwcqD61W1D/j1/4EKAOX/sy89YP++z/hR/Zl56wf8AfZ/wrYopjMf+zLz1g/77P+FH9mXfrD/32f8A4mtiigDH/sy79Yf++z/8TR/Zl36w/wDfZ/8Aia2KKAMf+zLv1h/77P8A8TR/Zl36w/8AfZ/+JrYooAx/7Mu/WH/vs/8AxNH9mXfrD/32f/ia2KKAMf8Asy79Yf8Avs//ABNH9mXfrD/32f8A4mtiigDH/sy79Yf++z/8TR/Zl36w/wDfZ/8Aia2KKAMf+zLv1h/77P8A8TR/Zl36w/8AfZ/+JrYooAx/7Mu/WH/vs/8AxNH9mXfrD/32f/ia2KKAMTQ7eS3+IGJduTpjEbTn/lqvtXa1ylj/AMlDT/sFv/6NWurpCOc8Tf8AIb8P/wDXzL/6IeuZ1m2u7m6T7GsLeTemV/OkKcAt0wpyefaum8Tf8hvw/wD9fMv/AKIequqXWiaZGLjWHsrYSH784UFj+PWgDjo9GltdHuPNt1a/klkaJ4ZGl2Fn3qRuA2gNjIHHGae2iXcdxGIktZ4BJDKxlkKksgIPAQg8kHrXbQW+m3Vuk9rDaywyDKSIisrD1BHWrFtpNjcTsr20QCqDxGv+FMDzb/hGtQfSbeznisH+zEMp81sMeMqcp04/Relai6feppnlotssyXbTom8+WwMhbaTtyOD6HBGea759D0yONnkhjVVGSxRAAPyqpYW3hzVt/wDZdzY3vl43/Z3jk256Z29OlIDgrvQbm4hmhEVmY59shG4r5TKMbFG05U+vHVuOarr4d1AfIgtbZWAUvBM2VHlRoRtKAHmPPbtzXqP/AAj2n/8APvH/AN+1/wAKjm0XSbaFprhIYo05Z3VFA+pIoA81udA1K7kMha1geSIxOIpn2riNlDKNo5O7kZHCgZrZ0qzezszHJFHG7OWKxyvIOgHLPyTx3+nau2/sDT/+feP/AL9r/hULaTo484t9nXyBmXhB5YxnLcccetMDnMUYrpl0LS2OFijY4DYCp0PQ9Kr3dhoNgUF9LaWxfO0TGNN2OuMjmgDBxRiugtdN0K/VmsXtbkKcMYTG+PrgVY/4R7Tv+eCf98L/AIUAcvRitt9Ns45XQWsJCtgExL/hTfsFp/z6wf8Afpf8KAMbFGK2fsFn/wA+kH/fof4UfYLP/n0g/wC/Q/woAxsUYrZ+wWf/AD6Qf9+h/hR9gs/+fSD/AL9D/CgDGxRitn7BZ/8APpB/36H+FH2Cz/59IP8Av0P8KAMbFGK2fsFn/wA+kH/fof4UfYLP/n0g/wC/Q/woAxsUYrZ+wWf/AD6Qf9+h/hR9gs/+fSD/AL9D/CgDGxRitn7BZ/8APpB/36H+FH2Cz/59IP8Av0P8KAMbFGK2fsFn/wA+kH/fof4UfYLP/n0g/wC/Q/woAxsUYrZ+wWf/AD6Qf9+h/hR9gs/+fSD/AL9D/CgDk/EP/IEm/wB6P/0Na9OrhfFlpbReGbl4reJGDR4KoAf9Ytd1SA5DT3WLVvELSMqL/aI5Y4H+oiqvaQ3FhC8Nrq2n+SZpJF8yAsw3uXwSJADjd6UsccU+qa1FcRpLG2sRBkdQwP7uHqDXSf2Bov8A0CLD/wABk/woA4zQdL1Gx1y51HXPFUWqbovJhjW2jgCrndlsE5Ocj/PHoFqR9kh/65j+VUv7A0X/AKBFh/4DJ/hTv7E0j/oF2X/gOn+FAEV5o6S6g13b6jdafNIgSX7OY8SgdMh1bkZIyMH8hVKTwtZuAq6neJGk3nRIHjIifeHYgshPLDnJPU4xWj/Yekf9Aqy/8B0/wo/sPSP+gVZf+A6f4UAZn/CJ2bXMlxLqd3LMw+R2aIGM7w4I2oM4ZcgNkcnjk0reFbV7hrg6te+cQp8wNFkOrFg/3OvzEemD0rS/sPSP+gVZf+A6f4Uf2HpH/QKsv/AdP8KAC60+K80ObTZb6bbNGY3n3KZCD1PII557YHbFVn0GzlEK3FzJOiTvcSJKI2Wd2BHzjb0APGMdBVn+w9I/6BVl/wCA6f4Uf2HpH/QKsv8AwHT/AAoATTNMt9KsZbSG5eSGSR3VH2ARBiSVUKowuScda5n/AIV1a/Z/s39t3v2bG3yt6425zj06+1dP/Yekf9Aqy/8AAdP8KP7D0j/oFWX/AIDp/hQBeEkYAAdfzqtqMiLZ72ZQoYZYniov7D0j/oFWX/gOn+FL/YekYx/ZVlj/AK90/wAKAM77ba/8/MP/AH8FH221/wCfmH/v4Kv/ANg6N/0CbH/wGT/Cj+wdH/6BNj/4DJ/hTGUPttr/AM/MP/fYo+22v/PzD/32Kv8A9g6P/wBAmx/8Bk/wo/sHR/8AoE2P/gMn+FAFD7ba/wDPzD/32KPttr/z8w/99ir/APYOj/8AQJsf/AZP8KP7B0f/AKBNj/4DJ/hQBQ+22v8Az8w/99ij7ba/8/MP/fYq/wD2Do//AECbH/wGT/Cj+wdH/wCgTY/+Ayf4UAUPttr/AM/MP/fYo+22v/PzD/38FX/7B0f/AKBNj/4DJ/hR/YOj/wDQJsf/AAGT/CgCh9ttf+fmH/vsUfbbX/n5h/77FX/7B0f/AKBNj/4DJ/hR/YOj/wDQJsf/AAGT/CgCh9ttf+fmH/vsUfbbX/n5h/77FX/7B0f/AKBNj/4DJ/hR/YOj/wDQJsf/AAGT/CgCh9ttf+fmH/vsUfbbX/n5h/7+Cr/9g6P/ANAmx/8AAZP8KP7B0f8A6BNj/wCAyf4UAUPttr/z8w/99ij7ba/8/MP/AH8FX/7B0f8A6BNj/wCAyf4Uf2Do3/QJsf8AwGT/AAoEYWnTRzfEJTDIkgGltkqwOP3orr65iCztLH4iRrZWsNuraU5YQxhAT5q+ldNupAc74m/5Dfh//r5l/wDRD1k6vPDbeLtFluZY4YxDdDfIwUZxH3NaviY/8Trw/wD9fMv/AKIeqU8VxrETB9Btr+2jlZU+0SoQSpKk7WBx0NMDkfFl94M8P6fdSQX0dpqc0Uslo9vPIcy89NpK5yenvXpmlOJJC4z80ankEH8j0rmF8OBXR18G6WrxsHRgYQVI6EHb1resJtThld7nSmXIAHl3CN/MikBP4jiml0f9zG8ojnhllijGWkjWRWdQO+VB479O9ZWpXiXd5FLZxajbwupS5uoLOVJMgExrjbuK5LHgYyRnrW59tuv+gbL/AN/Y/wD4qk+23f8A0DJf+/sf/wAVQBxUV54gCv8AbLrVPtEgkRl+xyeWhBhIClI8gHMgDDPHPOKdrE+sXmh3YMGpLcPCES1MDSK8JhGSSFwZN5PocgcYNdn9tu/+gbL/AN/Y/wD4qj7dd/8AQMl/7+x//FUAZehy6hPrl7JezXPlszhbd7V0RFDfIQ7cNlcH5R3OeRVe5haXWNVtILSYJey2ySuLdlRl58w7sYPyjGc9xW79tuj102X/AL+x/wDxVH226/6B0v8A38T/AOKoAwEub6PxNBqX2OQWdzI9mdscpkCD7jMmz5VDKTnOP3hqh48ECa5p8l9aS3Vt5EgZI0JLH0BHQ8jmuu+3XX/QNl/7+x//ABVH226x/wAg2X/v7H/8VQByHw/jjOuavPa2stvaukQjV4yuOvHuff8AGu9qh9uu/wDoGTf9/Y//AIql+3XX/QNm/wC/kf8A8VQBWn/4+Zf9+mVBcNqzXEjQ6UrIxyC90qn8sH+dR51r/oEx/wDgYv8A8TTGW6KqZ1r/AKBMf/gYv/xNGda/6BMf/gYv/wATQBboqpnWv+gTH/4GL/8AE0Z1r/oEx/8AgYv/AMTQBboqpnWv+gTH/wCBi/8AxNGda/6BMf8A4GL/APE0AW6KqZ1r/oEx/wDgYv8A8TRnWv8AoEx/+Bi//E0AW6KqZ1r/AKBMf/gYv/xNGda/6BMf/gYv/wATQBboqpnWv+gTH/4GL/8AE0Z1r/oEx/8AgYv/AMTQBboqpnWv+gTH/wCBi/8AxNGda/6BMf8A4GL/APE0AW6KqZ1r/oEx/wDgYv8A8TRnWv8AoEx/+Bi//E0AZ/i//kVrr/ej/wDRi12tcF4r/tX/AIRq5+0aakUW6Pc4uQ2394vbHNd5upCOJtj/AMTjWP8AsMRf+i4a7BZVYsFYEqcNg9D6frXF2zf8TjV/+wxF/wCi4a57xNIsfizVngaZStszOVMx3FFjIyPM2ttExwMAAuOD1AB6iLy3Ns1wJ4zAoJMu8bQB1OenGDTxMhfYHUtjdtzzj1rwkC5tfCOowQmWS3QxRSvJDsfaIpiDn5+M7R0xz25NaOj6hdJPE3mSwXUEgjTy3iAjV/OOCPLJx8gJX5MlskcDIB7M0qpjewXJwMnGT6Uu6uM8RR2c2uQvY6JBeX1m6Xl3ciAb0RBlVD4yznHCjsMnHGeqt7uC7t0ntZo54XGUkjcMrD2I60AWd1G6vNPFfjq90vx5aaZYXaeWsttHPbPFEN4lfBILSBzweqKQCOfbsfFUzxeD9XeFnSRbKYqyNtYHYcYPY0AapvLcdZ4x+88vlx9/+79fanvPHG6I8iq0hwilsFjjOB68CuAs9Eae8vc2t8q2t5HKtk2oPu3so3SCQPwQHkOM4OeecEVNcNzFaWm+Vzbpp5MW+Qu5f7RbhnLEMejlRw3fjnFAHpUU8cyb4ZFkXJXcrZGQcEfgQRTt1edfDu3hj1jUvLLkQ28QTzH3kb3kZufKjPJVeMHpXVWDD/hJ9X+XUAdsHM5P2c/K3+p/9m98UAbe6jdXmNzr2pN8UtNN1ZaxDD9pmtYYRERA8YQ/vM5w2W+bJHCgY716VuoAk3Ubqj3UbqAJN1G6o91G6gCTdRuqPdRuoAk3Ubqj3UbqAJN1G6o91G6gCTdRuqPdRuoAk3Ubqj3UbqAJN1G6o91G6gCTdRuqPdRuoAxXb/i40X/YKf8A9GrW9urnXb/i4kX/AGCn/wDRq1vbqAMHxK3/ABOtA/6+Zf8A0Q9XvD7f8S1/+vmf/wBGtWb4lb/ic6B/18y/+iHqIaldaX4f+0WNsblvt8odApJ2ea+cY5z+dAHV7qN1efS+PtaXVbZB4dZbNow00mZXKlimOkfBAZvlwSeOmCDEvxNKatqMM6Wa28JZLc75QxKhMliyAYy/ODn0DdwD0bdRurC0zWJtW02T7MY4763fyp1miZVDdfuk5GRggE5GcGptB1GfUdNaa6aFpVuJoiYAQpCSMqnknqoB/GgDX3UbqrXV3FZ2slxcNtiiUsxAJ4+g5NVNI12y1y2km095CIpPLkSaF4pI2wDhkcBhwQeR0NAGpuo3Vy2seJNQ0/UFFvp3m2UN1FBczbwWPmbAAq9cgyA984x3yGWPim+Tyf7b09bdJRcStPHMGWJIzkAqMksBgHp8wPFAHWbqN1ea3PxKv7SGOY2Vq8SRi4nJaVW8p4vMQYCMFYBlB5OSDwM8dlqGp31joiXcGlSX92fLDWltIAcsQGwX28DJPOOnagDY3Ubqyde1pNC0WW/kiMpUoix7wu53YKoLHhRlhknoOag8N+ITr1tdedbx211ZzmC4hinEyq20MMOAMjDDsMHIoA3d1G6o91G6gCTdRuqPdRuoAk3Ubqj3UbqAJN1G6o91G6gCTdRuqPdRuoAk3Ubqj3UbqAJN1G6o91G6gCTdRuqPdRuoAk3Ubqj3UbqAMXxsc+D736x/+jFre3VzvjVv+KQvfrH/AOjFre3UAcVbN/xONX/7C8X/AKLhrcl8P6bPeyXU0BeWUMHy7FWDeXkbc458pPy9zXP25/4m+r/9heL/ANFw11+6gCi3h/SnguoWs4zHdf61ccdCBgdup6etNPh3SiSTbfxKwwxGNpYgD0GXbgeprQ3UbqACCGK2VlhXG5i7EnJYnqSTUVnp9pp8lw9nF5RuZDLKAx2lz1IHQE9TjqeTUu6jdQAPbwSTCWSGNpAMBygLAdetJd28N9ZzWl0m+GdDHIuSMqRgjIpd1G6gCra6TaWUM8dsJkFwcyMZ3ZicY+8SSOB60240PTrqCCGeAslvH5UYLtwu5GweeeY0PPpVzdRuoAqWWi2Gn3j3NnCYpXQRttc4YAkjK9DjJ5xnk1fzUe6jdQA8hWZWZQWXoSOlO3VFuo3UAS7qN1RbqN1AEu6jdUW6jdQBLuo3VFuo3UAS7qN1RbqN1AEu6jdUW6jdQBLuo3VFuo3UAS7qN1RbqN1AEu6jdUW6jdQBLuo3VFuo3UAYzt/xcSL/ALBb/wDo1a3t1c67f8XCi/7Bb/8Ao1a3d1AGF4lb/ic6B/18y/8Aoh6o3llNqPh2KCG3e5X+0ZmlSNYmO0NJziX5fvbetWvEh/4nOg/9fMv/AKJer2gN/wAS1/8Ar5n/APRrUAcSvgi8a5tLuSwgkJvLMsrQrvjjiWFWYkOqgfu2wFQ9R0zxDrXgLUGm1NrOASedLJ5HkBkO14lB5aXGNxGeOisRx8p9PzRuoA5qw0jUFi1OzJks4b7UZZ2njcCTyiEGFwTgtgjPUDng4q/Hpk+j3lv/AGDDCLBysdzaE7dgACiRD6gAAqeoA5BHOtuo3UAU9f02TWtAvNOhu5LJ7mMoJ4vvJ/L6HkcGszwZ4UHhKzvIRdLcG7nE7bIjGqnYq4ALMcfLnk96391G6gDmNV0Ge71xrqPS7SVjfWsy3jyASxojRlgBt/2W7jrV1dOWbxLI7aX5NtGjyNK7KVuJn2YYKCegj5JxyR161tbqN1AHllz4U1+50u5hTTCHlsYoEDFCdy26oeROuPmB6qf6V6JfaeniLRUt9TjurLeySPHDcmORCrBgN8Z9R2NX80bqAK+rWbajo9zZIYAZoymbmDzo+f7yEjcPbNUvDHh238M6bJbwGNpJpTLM0UKwoWwBhUXhVAUADn3JPNau6jdQBLuo3VFuo3UAS7qN1RbqN1AEu6jdUW6jdQBLuo3VFuo3UAS7qN1RbqN1AEu6jdUW6jdQBLuo3VFuo3UAS7qN1RbqN1AEu6jdUW6jdQBjeNG/4pG8+sf/AKMWt7dXO+M2/wCKSvPrH/6MWt3dQBxluf8Aib6t/wBhaL/0XDWlc+K4LPUbi0nsb4tCAyOlsxSRcfMQxAHynAPOPmXBOcDKtz/xN9W/7C0X/ouKsHXEnvPGWpwxxRF3geOPFs25mC2+35j8rcufoFPSgDoY/iJZv4cn1VrOaLykDCOSRF3lgxUZJ9F54+mcGrdv460ie6ghaeOETLwzzx/K3J2kBj2BO4ZA6Eg8VxEugXMujayEikE9o642J5PSKQMAVIzxIDweeOo6tsrK4spJrYfaWh+1RRybS7hmYzDBIX5h8ydS38OT2AB6Ve6vLZXkMR064kilmSIXAeMIN3fG7dx9K0t1c5eadc69cedLO1va2/z2aBMMZgDiV89QM8Lx3JzxjR02/nu45VvLOS0nhfY6k7kbuCjYG4EY5wPQgGgAj8Q2Emt3OlPKIrmAooWVlXzSy7sJzk4HWrd9fRafp9xeXJYQ28bSyFVydqjJwO/AriNW8KX994uvLqOwsXgvJLVxfyS/vrYREEhV29TjruHX2rpvEyST+E9VihR3kks5VVUGWYlDgADqaAKY8aRNKYk06+MoufKMX2aUOI8Z83bszjGOgPLKCRmrF54ss7SK2mCO0U0TTPv/AHTRxgqu4q+OrMo5x3Pas22jgRdUu7xtQjijmilS4libzRtVc4+XJXIweCMZzWTr1s0VrZTpb3JuJ7EqQkTl1xNbMBheVwNx7Ec80AdL4c8YWniSWSK2iZJIgzMPNRwF3lVztOQTjPTHXk1qQapb3OpXdhEXM9mIzKDGQBvBK4JGD0PTpXI+DZ5I9ev0uIbxDPbw+W00U5U7TJuG6TOPvLxmuqgguo9Su55rzzbaUJ5Nv5YHkkA7vmHLZ4PPTFAEf/CRWja7/ZMMdzPOpxLJFbs0UJ27gHfGFJHb3HrWpurz+LwhqNv44fUYFRInvjdtei9kDmMrzAYcbSM/xZ6e9d3uoAl3Ubqi3UbqAJd1G6ot1G6gCXdRuqLdRuoAl3Ubqi3UbqAJd1G6ot1G6gCXdRuqLdRuoAl3Ubqi3UbqAJd1G6ot1G6gCXdRuqLdRuoAx2b/AIuDF/2C3/8ARq1u7q55m/4uBF/2DH/9GrW5uoAw/Ebf8TjQf+vmX/0S9XtBb/iXP/18z/8Ao1qzfEZ/4nGhf9fEv/ol6y9ZkVPCW5phCw1ByjMwUBhK5HJZQOmevagDuN4zjvRvHPPTrXi0zXtxrlpcxXuoTPGbeFGKPJDulELDLibpkrkA8+vQ0k+s6hYavq93JbTR+Y8qSs7TqMBEIQFmI5APGM46FRzQB7Vuo3ZrjtNubQeH9Sg1oRtp+m3Rt0Gw8hdpACDPdgqqMnoOtXfCRS1sJNPe1+wzLI9wLYkZWOVy69PTJU+6mgDpd1G6uW+IE8sPgPU5IH2SKiFW3FcHevcdKf4W1i+1B9RttSls7mSymVBcWSlY3DIG24Jblc4PPp0oA6XdQHB6GuF8RLcy6uZoTeLJb6hbJBMJF8iLeYg2V3BiSGIOB0YjPJqS2s77Sr2C3sGu/NUXREc826OViVIlPtukyc8g5A7ZAO23il3V4rezXKaY88bXZktLOO5RojPsEj2wZ2+Vtq5Z2J6dT2Nej+IzHYeF1jF3qNpHG8MYm0+MzTgb1AABDE56HIPHrQB0e6jdWfqKedpkkYvZLLcoBuEKhkGeoLDAP4VwqzX2p/DnRJLbUGlkimJuWfVGtXkUCQYMoyc5KnHfFAHpW6jdWL4Zv49S8MafdwCZY5YFKieTzH/Fv4vr361q7qAJd1G6ot1G6gCXdRuqLdRuoAl3Ubqi3UbqAJd1G6ot1G6gCXdRuqLdRuoAl3Ubqi3UbqAJd1G6ot1G6gCXdRuqLdRuoAx/GTf8UlefWP8A9GLW7urnvGTf8UnefWP/ANGLW5uoA462b/ib6r/2Fov/AECKtS58T2Vt4ltNEKzSXNyCdyKCkWFLAMc9SFOAAenOMisa2P8AxONU/wCwrF/6BDTZ/BDnxRa6vbazeqqXj3UsDOhXLLtwvy5xjC8n7vAoA6u+vRZWMty0byCNc7I8bj9MkD9a53TfGsuoRyNHpjzFUdyLeQfIFOOTJsznrkZ9K3rtZpLOWO2kEUrqVWQ87Cf4sd8dcVx2j6Vf6TaJDYae8sRtJYVSWUR+V+8OFGR0xz+NAHa2N59t062u9hjE8SybGIJXcAcHH1qjpXiFNXu5o7SzuvsseQt64QRSkHBC/NuPOedoBx1qfTInttHs7eYYkigRHGc4IUA1yvhbwO3h7WEuB9iSKCKSJZLaNlmugzAgzHOCVAwPqenSgDpdZ1mTTvLhtLOW8upo3eJEIC/KVBLEkYHzDpms+38YefCbwaZdNYskHlyoEJLyHBBG7jaWUH33elJ4itZbjVNPlS0vLmKOKdWFpP5TKW2Yyd68cHjP4VUWwdNL0S2a0uftjW9tDOUz5aLGUdt/O3I2kDv8xA60AWdY8XT6XqL28enpcRggLIZyuTgE8BD6+vrWxBrEH9lR3l/LBa52rJmUFUdiAF3HHOSB0HWvO/8AhHLmXVri5m0yW1gniuXt1FurMjtJGUB2lgMj124+b0zXRafo8UOn25uYLnydOuHuWg8slpJskjAA+dUBwCM5wPSgDo9L1L+0LTzHCJJvcFFbOFDsqn8dv86qXWuXKWVxd2VpFNBbz7Gd5iuUUgSOAFOdp3cd9p+lZFppd7NY6Zf2TSW0oaRbiGUNGZbeR2OCOquuQy56HI4yabbHWPs882n6RPazEqsSXM0aARx5CJgFuD8xPTG7vQBtat4gXTZgiRmYRRG4uipBMMXIDYz3IPthW54Ga8HizMFw15pV5A1rA005VVdBgFgFYH5iVGQAOMjOMisy80WOG2kNppruxtYtkcy+cVbfjb8xwdqkgDIAHoKrWGiH7TqH2rS0s1isx9mmFggdHfzFcp5bsSduOAc8+/IA6y+J9rqN9JaWtlcGUyDyhsL7kBQOcJk7gGY4A6L1rsrS/hvLSG4hYhJkDqJFKNg+oPIrzTRtA1VGnmlSZbtkzADZrEokLhg2R0A8ofew3zH5Rnnak8E2uralZ6w5jhdEiIiuNNheVdgHBdgWB49eO1AHRWPiSC/1K/sorW7R7FFdmli2iUEuvyAnJ5jbsM9s07R/ECavcXVs1jd2Fxa7C8N0qhir52sNrMMHB75GKyoLDxDF4pvtRZ9MME9uII1Bk3gIZChPbkvz9OKk8LabrOm/aW12SyuJ7gh3uIC++RunO7gKBgADpQB026jdUW6jdQBLuo3VFuo3UAS7qN1RbqN1AEu6jdUW6jdQBLuo3VFuo3UAS7qN1RbqN1AEu6jdUW6jdQBkM3/FwI/+wY3/AKNWtzdXPs3/ABXyf9gxv/Rq1t7qAMXxCc6xof8A18S/+iXpbSwGoaZGPtE1u8N7NKkkO3cDvkX+IEdGPaovEDf8TjQ/+viX/wBEvWVrH23/AIRaNrJ5hGt/KblILwWskke9+FkJG07tp6jIBFAGuPBumbreRl3XEM8U5uDGhkcx7QiliuQAEX7uOnuajv8AwVpF5JdPtFs12xaRoI41Y5UKRkqeoDfixPXGF8EXt1feErW4vWdnZpAjvJ5jNGHYIS/8XygfN3696wtfikm8dIEPnRR2skrMYjL5DgxAABiQpweqgFQ+e+aAOvtNFtbSeWVS8hkuXuSrkYDsAM4AHQDA+p781Nd6ba3t1a3Mqss9q+6KWNirDPVcjqpwMg8HA9KwfDVutvqL7Jbh92l2bkTXDyckzZI3E46CjxhM1sNNuhq01kI76BTAkoRZlaaMNu7kBSeM455oA6W4hhu7d7e7hjnhkG145FDKw9CDwabZ2dpp1stvp9rDawL92KCMIo/AcVxGt3c1n42tb2WeWewma3iiit9VZCrsSM+QOJFOQSc9AeuK63VncabJ5fm7iVAELAOcsBhSSAD+NADLnRLO7u/tEslwGaeObas7BC8ZUr8ucH7g7VPHYKmrSX0lzNK7R+XHG5G2JSQWCgAdSBknPQVxmm6SzSFmGorDZ6iyxRG4Alt98abpGO4hh8xPr87nkkisjV765uLHSLC4hE8/2eB4p5rhi8hmcJkjYeRg9+QaAOrk+H2kzwNFPLNLviWEs8cLMFVAgwxjJXgDofeuntozb2yQtPJOUXBklILN7nAFcB4Svf7GF+ZrRY4RC11cSqH3HZ8gAUoM/dYY5Oelaz65eaPpraxr1sqFIIpL5IFLG3jLS9gTu2ZGcejEUAdRdW1vfWr217BFcQSDDxTIHVh7g8GqI8N6B9l+zDRNN+ziTzPKFpHs34xuxjGccZqhPdJqGq2kgjW5tJE224DfLKGXMknGcqEwB6lyPQ1my3Fxp3h+6tNHs2WyZWlhuVYIIldz5iFchldctjj64INAHZoyhQEwFA4x0pd4zjPPpXllwsttqc0cd5HZLHIluiRamIpI4+P3OAvTdjBAyoJxzzWbd3GqS+OMQ6vdQ3K3G0RsXdYg0y/KeQCnyn0yF/CgD2YPkZByKN1ed2+v3nhzw6LpP9LtjLHbW0N3KIhEixDcMxwkkh968gcKPxo+J/GOoXmiWksEV9YphLiSewjmljdvN2iLzQi4GAScgZyo5yaAPUt1G6uHhuLmP4gi5nkmktb0qttENQdTD+5yQ9qRgcqxyeQSOK7PdQBLuo3VFuo3UAS7qN1RbqN1AEu6jdUW6jdQBLuo3VFuo3UAS7qN1RbqN1AEu6jdUW6jdQBk+MG/4pS8/wC2f/oxa291YHi9v+KVu/8AgH/oa1tbqAOQtm/4m+qf9hWL/wBAirqt1cW9y9lrOoiWzvWD6hHMrRWrurIEjyQQMfwmtn/hJbX/AJ9dS/8AACb/AOJoA3N1G6sP/hJbX/n01L/wAm/+Jo/4Sa1/59NS/wDACb/4mgDc3Ubqw/8AhJrX/n01L/wAm/8AiaP+Emtf+fTUv/ACb/4mgDc3Ubqw/wDhJrX/AJ9NS/8AACb/AOJo/wCEmtf+fTUv/ACb/wCJoA3N1G6sP/hJrX/n01L/AMAJv/iaP+Emtf8An01L/wAAJv8A4mgDc3Ubqw/+Emtf+fTUv/ACb/4mj/hJrX/n01L/AMAJv/iaANzdRurD/wCEmtf+fTUv/ACb/wCJo/4Sa1/59NS/8AJv/iaANzdRurD/AOEmtf8An01L/wAAJv8A4mj/AISa1/59NS/8AJv/AImgDc3Ubqw/+Emtf+fTUv8AwAm/+Jo/4Sa1/wCfTUv/AAAm/wDiaANzdRurD/4Sa1/59NS/8AJv/iaP+Emtf+fTUv8AwAm/+JoA3N1G6sP/AISa1/59NS/8AJv/AImj/hJrX/n01L/wAm/+JoA3N1G6sP8A4Sa1/wCfTUv/AAAm/wDiaP8AhJrX/n01L/wAm/8AiaANzdRurD/4Sa1/59NS/wDACb/4mj/hJrX/AJ9NS/8AACb/AOJoA3N1G6sP/hJrX/n01L/wAm/+Jo/4Sa1/59NS/wDACb/4mgDc3Ubqw/8AhJrX/n01L/wAm/8AiaP+Emtf+fTUv/ACb/4mgDc3Ubqw/wDhJrX/AJ9NS/8AACb/AOJo/wCEmtf+fTUv/ACb/wCJoAVm/wCK+j/7Bjf+jVrb3VzVndHUPGH2qK2uo4UsDGXnt3jG4yA4G4DPFdBuoAxvEDf8TfRP+viX/wBEvUthY2epaO0GoWsF1D9plby54w65EjYODVXxI7x3mlXCwTzRwzuZPJiaQqDEwBwoJ6kVFpmvRWtmY5rLUgxlkf8A48JTwXJH8PoaAOnXCqAoAAGAB2qrLp8Et4Lkgq/lSRELgBg+zJPv+7Ws7/hJrX/n11L/AMAJv/iaP+EmtP8An11L/wAAJv8A4mgC7puj2WkljZRsrNEkTM0jMSqZ29T/ALR/On3+labquz+09Ptb3y87PtEKybc9cZBxnArP/wCEmtP+fXUv/ACb/wCJo/4Sa0/59dS/8AJv/iaAL8ekaZDdpdQ6daR3EaCNJkgUOqgYChsZAxxip7qBLu3aGUuFbGSjlSMHPBHI/Csn/hJrT/n11L/wAm/+Jo/4Sa0/59dS/wDACb/4mgCwNDhj0+4tLa6vIBcSGSSVZi0hJAU/M+T0A/pVebwrps1wk/79Zo/J8thMxEYiYMihScYyD1GfmNH/AAk1p/z66l/4ATf/ABNH/CTWn/PrqX/gBN/8TQBZtdEgtLozJLIxkJedW2lZpMgiQjHDA9MYH5DE9vZeRdXU0t1Nc/aCMJLt2xqM/KuAOMk9cms//hJrT/n11L/wAm/+Jo/4Sa0/59dS/wDACb/4mgCX/hG9OF0kqCeJY4RDHBFcOkSKDnARSAM8Z+gp6aBYxWt7bwCSKO9YNKA5OG2gZGc44Az61X/4Sa0/59dS/wDACb/4mj/hJrT/AJ9dS/8AACb/AOJoAlbw9avcPMZ7sM9ytyVFy4TcrKwGwHbjKjtUT+GLZ9Tkv/tM63Dyb8rt2qdpXIUjGcH73Xgc9cn/AAk1p/z66l/4ATf/ABNH/CTWn/PrqX/gBN/8TQBe0/TItMkm+zTTmKUhvJkfcqN3K5556nk889zVqWOK4iMc8aSocZV1BBwcjg1j/wDCTWn/AD66l/4ATf8AxNH/AAk1p/z66l/4ATf/ABNAGkmnWEeoPfx2Vul5Iu17hYlEjDjgtjJHA/KrW6sP/hJrT/n11L/wAm/+Jo/4Sa0/59dS/wDACb/4mgDc3Ubqw/8AhJrT/n11L/wAm/8AiaP+EmtP+fXUv/ACb/4mgDc3Ubqw/wDhJrT/AJ9dS/8AACb/AOJo/wCEmtP+fXUv/ACb/wCJoA3N1G6sP/hJrT/n11L/AMAJv/iaP+EmtP8An11L/wAAJv8A4mgDc3Ubqw/+EmtP+fXUv/ACb/4mj/hJrT/n11L/AMAJv/iaANzdRurD/wCEmtP+fXUv/ACb/wCJo/4Sa0/59dS/8AJv/iaANzdRurD/AOEmtP8An11L/wAAJv8A4mj/AISa0/59dS/8AJv/AImgB3i5v+KWu/8AgH/oa1tbq5LXtXTU9FntLSz1BppCgUNZSqPvA9SuB0rqN1AEe6jdRRQAbqN1FFABuo3UUUAG6jdRRQAbqN1FFABuo3UUUAG6jdRRQAbqN1FFABuo3UUUAG6jdRRQAbqN1FFABuo3UUUAG6jdRRQAbqN1FFABuo3UUUAG6jdRRQAbqN1FFABuo3UUUAG6jdRRQAbqN1FFABuo3UUUAG6jdRRQAbqN1FFABuo3UUUAG6jdRRQAbqN1FFABuo3UUUAG6jdRRQAbqN1FFABuo3UUUAG6jdRRQAbqN1FFABuo3UUUAGaN1FFAH//Z)"
      ],
      "metadata": {
        "id": "4fgnCQFgYae3"
      }
    },
    {
      "cell_type": "code",
      "source": [
        "a = int(input('請輸入a的值:'))\n",
        "b = int(input('請輸入b的值:'))\n",
        "for m in range(a,a*b+1,a):\n",
        "  for n in range(b,a*b+1,b):\n",
        "    if m==n:\n",
        "      mylist=[n]\n",
        "print(a,'和',b,'的最小公倍數',min(mylist))"
      ],
      "metadata": {
        "colab": {
          "base_uri": "https://localhost:8080/"
        },
        "id": "8OUpxEpLaeKL",
        "outputId": "f6f34ccd-e955-4200-e07d-317464a6301f"
      },
      "execution_count": 51,
      "outputs": [
        {
          "output_type": "stream",
          "name": "stdout",
          "text": [
            "請輸入a的值:4\n",
            "請輸入b的值:6\n",
            "4 和 6 的最小公倍數 24\n"
          ]
        }
      ]
    },
    {
      "cell_type": "markdown",
      "source": [
        "想不到最小公倍數怎麼表示..."
      ],
      "metadata": {
        "id": "Bu7bAVgKX-X5"
      }
    },
    {
      "cell_type": "code",
      "source": [
        "a = int(input('請輸入a的值:'))\n",
        "b = int(input('請輸入b的值:'))\n",
        "if a > b:\n",
        "  c = a\n",
        "else:\n",
        "  c = b\n",
        "m=(a+1)*(b+1)\n",
        "for d in range(c,m):\n",
        "  if d % a == 0 and d % b == 0:\n",
        "    print(a,'和',b,'的最小公倍數',d)\n",
        "    break"
      ],
      "metadata": {
        "colab": {
          "base_uri": "https://localhost:8080/"
        },
        "id": "bcZ3iNmhTvO7",
        "outputId": "c41e9543-f9a1-443b-8ede-f1fcfadcd62b"
      },
      "execution_count": 54,
      "outputs": [
        {
          "output_type": "stream",
          "name": "stdout",
          "text": [
            "請輸入a的值:4\n",
            "請輸入b的值:6\n",
            "4 和 6 的最小公倍數 12\n"
          ]
        }
      ]
    },
    {
      "cell_type": "markdown",
      "source": [
        "上面是參考網路上的做法"
      ],
      "metadata": {
        "id": "egII3GEicRK6"
      }
    },
    {
      "cell_type": "code",
      "source": [
        "number = int(input('請輸入正整數:'))\n",
        "for h in range(1,number+1):\n",
        "  if h%5==1 or h%5==2 or h%5==3 or h%5==4:\n",
        "    print(h,end=' ')"
      ],
      "metadata": {
        "colab": {
          "base_uri": "https://localhost:8080/"
        },
        "id": "HlipRM1jch7e",
        "outputId": "66c3c658-419f-4d68-e29d-0415afd4ee92"
      },
      "execution_count": 58,
      "outputs": [
        {
          "output_type": "stream",
          "name": "stdout",
          "text": [
            "請輸入正整數:21\n",
            "1 2 3 4 6 7 8 9 11 12 13 14 16 17 18 19 21 "
          ]
        }
      ]
    }
  ]
}